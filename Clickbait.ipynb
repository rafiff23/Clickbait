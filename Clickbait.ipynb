{
 "cells": [
  {
   "cell_type": "markdown",
   "id": "219470a7",
   "metadata": {},
   "source": [
    "# Muhammad Rafif - 2440057741 - No 2"
   ]
  },
  {
   "cell_type": "code",
   "execution_count": 72,
   "id": "aa12eb54",
   "metadata": {},
   "outputs": [],
   "source": [
    "import numpy as np\n",
    "import pandas as pd\n",
    "import matplotlib.pyplot as plt\n",
    "\n",
    "from sklearn.model_selection import train_test_split\n",
    "from sklearn.feature_extraction.text import CountVectorizer\n",
    "from sklearn.metrics import confusion_matrix\n",
    "from mlxtend.plotting import plot_confusion_matrix\n",
    "\n",
    "from tensorflow.keras.models import Sequential\n",
    "from tensorflow.keras.layers import Embedding, LSTM, Dense, Dropout, GlobalMaxPooling1D\n",
    "from tensorflow.keras.preprocessing.text import Tokenizer\n",
    "from tensorflow.keras.preprocessing.sequence import pad_sequences\n",
    "from tensorflow.keras.callbacks import ModelCheckpoint, EarlyStopping"
   ]
  },
  {
   "cell_type": "code",
   "execution_count": 73,
   "id": "7d3e736c",
   "metadata": {},
   "outputs": [
    {
     "data": {
      "text/html": [
       "<div>\n",
       "<style scoped>\n",
       "    .dataframe tbody tr th:only-of-type {\n",
       "        vertical-align: middle;\n",
       "    }\n",
       "\n",
       "    .dataframe tbody tr th {\n",
       "        vertical-align: top;\n",
       "    }\n",
       "\n",
       "    .dataframe thead th {\n",
       "        text-align: right;\n",
       "    }\n",
       "</style>\n",
       "<table border=\"1\" class=\"dataframe\">\n",
       "  <thead>\n",
       "    <tr style=\"text-align: right;\">\n",
       "      <th></th>\n",
       "      <th>headline</th>\n",
       "      <th>clickbait</th>\n",
       "    </tr>\n",
       "  </thead>\n",
       "  <tbody>\n",
       "    <tr>\n",
       "      <th>0</th>\n",
       "      <td>Should I Get Bings</td>\n",
       "      <td>1</td>\n",
       "    </tr>\n",
       "    <tr>\n",
       "      <th>1</th>\n",
       "      <td>Which TV Female Friend Group Do You Belong In</td>\n",
       "      <td>1</td>\n",
       "    </tr>\n",
       "    <tr>\n",
       "      <th>2</th>\n",
       "      <td>The New \"Star Wars: The Force Awakens\" Trailer...</td>\n",
       "      <td>1</td>\n",
       "    </tr>\n",
       "    <tr>\n",
       "      <th>3</th>\n",
       "      <td>This Vine Of New York On \"Celebrity Big Brothe...</td>\n",
       "      <td>1</td>\n",
       "    </tr>\n",
       "    <tr>\n",
       "      <th>4</th>\n",
       "      <td>A Couple Did A Stunning Photo Shoot With Their...</td>\n",
       "      <td>1</td>\n",
       "    </tr>\n",
       "    <tr>\n",
       "      <th>...</th>\n",
       "      <td>...</td>\n",
       "      <td>...</td>\n",
       "    </tr>\n",
       "    <tr>\n",
       "      <th>31995</th>\n",
       "      <td>To Make Female Hearts Flutter in Iraq, Throw a...</td>\n",
       "      <td>0</td>\n",
       "    </tr>\n",
       "    <tr>\n",
       "      <th>31996</th>\n",
       "      <td>British Liberal Democrat Patsy Calton, 56, die...</td>\n",
       "      <td>0</td>\n",
       "    </tr>\n",
       "    <tr>\n",
       "      <th>31997</th>\n",
       "      <td>Drone smartphone app to help heart attack vict...</td>\n",
       "      <td>0</td>\n",
       "    </tr>\n",
       "    <tr>\n",
       "      <th>31998</th>\n",
       "      <td>Netanyahu Urges Pope Benedict, in Israel, to D...</td>\n",
       "      <td>0</td>\n",
       "    </tr>\n",
       "    <tr>\n",
       "      <th>31999</th>\n",
       "      <td>Computer Makers Prepare to Stake Bigger Claim ...</td>\n",
       "      <td>0</td>\n",
       "    </tr>\n",
       "  </tbody>\n",
       "</table>\n",
       "<p>32000 rows × 2 columns</p>\n",
       "</div>"
      ],
      "text/plain": [
       "                                                headline  clickbait\n",
       "0                                     Should I Get Bings          1\n",
       "1          Which TV Female Friend Group Do You Belong In          1\n",
       "2      The New \"Star Wars: The Force Awakens\" Trailer...          1\n",
       "3      This Vine Of New York On \"Celebrity Big Brothe...          1\n",
       "4      A Couple Did A Stunning Photo Shoot With Their...          1\n",
       "...                                                  ...        ...\n",
       "31995  To Make Female Hearts Flutter in Iraq, Throw a...          0\n",
       "31996  British Liberal Democrat Patsy Calton, 56, die...          0\n",
       "31997  Drone smartphone app to help heart attack vict...          0\n",
       "31998  Netanyahu Urges Pope Benedict, in Israel, to D...          0\n",
       "31999  Computer Makers Prepare to Stake Bigger Claim ...          0\n",
       "\n",
       "[32000 rows x 2 columns]"
      ]
     },
     "execution_count": 73,
     "metadata": {},
     "output_type": "execute_result"
    }
   ],
   "source": [
    "data = pd.read_csv(\"clickbait.csv\")\n",
    "data"
   ]
  },
  {
   "cell_type": "code",
   "execution_count": 74,
   "id": "bca6d9b9",
   "metadata": {},
   "outputs": [
    {
     "name": "stdout",
     "output_type": "stream",
     "text": [
      "(24000,) (8000,) (24000,) (8000,)\n"
     ]
    }
   ],
   "source": [
    "text = data['headline'].values\n",
    "labels = data['clickbait'].values\n",
    "text_train, text_test, y_train, y_test = train_test_split(text, labels)\n",
    "print(text_train.shape, text_test.shape, y_train.shape, y_test.shape)"
   ]
  },
  {
   "cell_type": "markdown",
   "id": "fdfc8fac",
   "metadata": {},
   "source": [
    "The preprocessing process carried out in the code is common in Natural Language Processing (NLP) and includes the following steps:\n",
    "\n",
    "Tokenization: This step involves converting the text data into a numerical representation, where each unique word in the text is assigned an integer. The Tokenizer class from the keras.preprocessing.text module is used to perform this step. The fit_on_texts method is used to fit the tokenizer on the text data and build the vocabulary, which is a mapping of words to integers.\n",
    "\n",
    "Sequence encoding: In this step, each text is converted into a sequence of integers using the texts_to_sequences method. The resulting sequences represent the text data in a numerical form that can be processed by a machine learning model.\n",
    "\n",
    "Padding: In NLP, the length of the text sequences can vary greatly, so it's common to pad the sequences to a fixed length. This step is performed using the pad_sequences function from the keras.preprocessing.sequence module. The maxlen argument is used to specify the maximum length of each sequence, and any sequences that are shorter than maxlen are padded with zeros to reach this length.\n",
    "\n",
    "\n",
    "The code below is preprocessing text data for use in a machine learning model. The vocab_size variable defines the maximum number of words to keep in the vocabulary of the tokenizer. The maxlen variable determines the maximum length of each sequence (i.e. the length of each input vector) to be used as input to the model. The embedding_size variable defines the size of the vector representation of each word.\n",
    "\n",
    "The Tokenizer class from the keras.preprocessing.text module is instantiated with vocab_size as the maximum number of words to keep in the vocabulary. The fit_on_texts method is then called on text to build the vocabulary from the text data.\n",
    "\n",
    "The texts_to_sequences method is used to convert each text in text_train and text_test to a sequence of integers, where each integer corresponds to a word in the vocabulary. The sequences are then padded using the pad_sequences function from the keras.preprocessing.sequence module to ensure that all sequences have the same length of maxlen.\n"
   ]
  },
  {
   "cell_type": "code",
   "execution_count": 75,
   "id": "dc09feef",
   "metadata": {},
   "outputs": [],
   "source": [
    "vocab_size = 5000\n",
    "maxlen = 500\n",
    "embedding_size = 32\n",
    "\n",
    "tokenizer = Tokenizer(num_words=vocab_size)\n",
    "tokenizer.fit_on_texts(text)\n",
    "\n",
    "X_train = tokenizer.texts_to_sequences(text_train)\n",
    "x_test = tokenizer.texts_to_sequences(text_test)\n",
    "\n",
    "X_train = pad_sequences(X_train, maxlen=maxlen)\n",
    "x_test = pad_sequences(x_test, maxlen=maxlen)"
   ]
  },
  {
   "cell_type": "markdown",
   "id": "43fbd65f",
   "metadata": {},
   "source": [
    "The code below is defining a sequential model in Keras for text classification.\n",
    "\n",
    "The model starts with an Embedding layer, which takes the integer-encoded sequences generated in the preprocessing step and converts them into dense vectors of size embedding_size. This layer is then followed by an LSTM (Long Short-Term Memory) layer with 32 units. The return_sequences argument is set to True which means that the LSTM layer will output a sequence, rather than just a single vector.\n",
    "\n",
    "The GlobalMaxPooling1D layer is then used to perform global max pooling on the output of the LSTM layer. This reduces the output of the LSTM layer to a single vector per sequence, representing the maximum activation across the entire sequence. The Dropout layer with a rate of 0.2 is then added to prevent overfitting.\n",
    "\n",
    "Finally, a Dense layer with a single unit and a sigmoid activation function is added to produce a binary classification output.\n",
    "\n",
    "The model.summary() method is used to print a summary of the model architecture, including the shapes of the input and output tensors, the number of parameters, and the activation functions used.\n"
   ]
  },
  {
   "cell_type": "code",
   "execution_count": 76,
   "id": "b0f2587b",
   "metadata": {},
   "outputs": [
    {
     "name": "stdout",
     "output_type": "stream",
     "text": [
      "Model: \"sequential_2\"\n",
      "_________________________________________________________________\n",
      " Layer (type)                Output Shape              Param #   \n",
      "=================================================================\n",
      " embedding_2 (Embedding)     (None, 500, 32)           160000    \n",
      "                                                                 \n",
      " lstm_2 (LSTM)               (None, 500, 32)           8320      \n",
      "                                                                 \n",
      " global_max_pooling1d_2 (Glo  (None, 32)               0         \n",
      " balMaxPooling1D)                                                \n",
      "                                                                 \n",
      " dropout_4 (Dropout)         (None, 32)                0         \n",
      "                                                                 \n",
      " dense_2 (Dense)             (None, 1)                 33        \n",
      "                                                                 \n",
      "=================================================================\n",
      "Total params: 168,353\n",
      "Trainable params: 168,353\n",
      "Non-trainable params: 0\n",
      "_________________________________________________________________\n"
     ]
    }
   ],
   "source": [
    "model = Sequential()\n",
    "model.add(Embedding(vocab_size, embedding_size, input_length=maxlen))\n",
    "model.add(LSTM(32, return_sequences=True))\n",
    "model.add(GlobalMaxPooling1D())\n",
    "model.add(Dropout(0.2))\n",
    "model.add(Dense(1, activation='sigmoid'))\n",
    "model.summary()"
   ]
  },
  {
   "cell_type": "markdown",
   "id": "69d0cd97",
   "metadata": {},
   "source": [
    "The code below defines two callbacks for training a machine learning model in Keras. The callbacks are lists of functions that can be passed to the fit method of the model to modify its behavior during training.\n",
    "\n",
    "EarlyStopping: The EarlyStopping callback is used to stop the training process early if the validation accuracy (val_accuracy) has not improved for a certain number of epochs. The min_delta argument specifies the minimum change in the monitored quantity to qualify as an improvement, patience is the number of epochs with no improvement after which training will be stopped, and verbose controls the verbosity of the output.\n",
    "\n",
    "ModelCheckpoint: The ModelCheckpoint callback is used to save the best weights of the model based on the validation accuracy. The filepath argument specifies the path to the file where the weights will be saved, monitor is the quantity to be monitored, mode is set to max which means that the weights will be saved only when the monitored quantity is maximum, save_best_only argument is set to True which means that only the best weights will be saved and save_weights_only is set to True which means that only the weights will be saved and not the entire model. The verbose argument controls the verbosity of the output.\n"
   ]
  },
  {
   "cell_type": "code",
   "execution_count": 77,
   "id": "d8ae0069",
   "metadata": {},
   "outputs": [],
   "source": [
    "callbacks = [\n",
    "    EarlyStopping(\n",
    "        monitor='val_accuracy',\n",
    "        min_delta=1e-4,\n",
    "        patience=3,\n",
    "        verbose=1\n",
    "    ),\n",
    "    ModelCheckpoint(\n",
    "        filepath='weights.h5',\n",
    "        monitor='val_accuracy', \n",
    "        mode='max', \n",
    "        save_best_only=True,\n",
    "        save_weights_only=True,\n",
    "        verbose=1\n",
    "    )\n",
    "]"
   ]
  },
  {
   "cell_type": "code",
   "execution_count": 78,
   "id": "36c35862",
   "metadata": {},
   "outputs": [
    {
     "name": "stdout",
     "output_type": "stream",
     "text": [
      "Epoch 1/20\n",
      "47/47 [==============================] - ETA: 0s - loss: 0.6651 - accuracy: 0.7420 \n",
      "Epoch 1: val_accuracy improved from -inf to 0.95025, saving model to weights.h5\n",
      "47/47 [==============================] - 696s 14s/step - loss: 0.6651 - accuracy: 0.7420 - val_loss: 0.5478 - val_accuracy: 0.9503\n",
      "Epoch 2/20\n",
      "47/47 [==============================] - ETA: 0s - loss: 0.3995 - accuracy: 0.9547\n",
      "Epoch 2: val_accuracy improved from 0.95025 to 0.95800, saving model to weights.h5\n",
      "47/47 [==============================] - 463s 10s/step - loss: 0.3995 - accuracy: 0.9547 - val_loss: 0.2436 - val_accuracy: 0.9580\n",
      "Epoch 3/20\n",
      "47/47 [==============================] - ETA: 0s - loss: 0.2586 - accuracy: 0.9122\n",
      "Epoch 3: val_accuracy did not improve from 0.95800\n",
      "47/47 [==============================] - 464s 10s/step - loss: 0.2586 - accuracy: 0.9122 - val_loss: 0.2540 - val_accuracy: 0.9467\n",
      "Epoch 4/20\n",
      "47/47 [==============================] - ETA: 0s - loss: 0.1866 - accuracy: 0.9752 \n",
      "Epoch 4: val_accuracy improved from 0.95800 to 0.96912, saving model to weights.h5\n",
      "47/47 [==============================] - 510s 11s/step - loss: 0.1866 - accuracy: 0.9752 - val_loss: 0.1472 - val_accuracy: 0.9691\n",
      "Epoch 5/20\n",
      "47/47 [==============================] - ETA: 0s - loss: 0.1075 - accuracy: 0.9816\n",
      "Epoch 5: val_accuracy improved from 0.96912 to 0.97300, saving model to weights.h5\n",
      "47/47 [==============================] - 458s 10s/step - loss: 0.1075 - accuracy: 0.9816 - val_loss: 0.1061 - val_accuracy: 0.9730\n",
      "Epoch 6/20\n",
      "47/47 [==============================] - ETA: 0s - loss: 0.0807 - accuracy: 0.9853\n",
      "Epoch 6: val_accuracy did not improve from 0.97300\n",
      "47/47 [==============================] - 303s 6s/step - loss: 0.0807 - accuracy: 0.9853 - val_loss: 0.0954 - val_accuracy: 0.9730\n",
      "Epoch 7/20\n",
      "47/47 [==============================] - ETA: 0s - loss: 0.0664 - accuracy: 0.9877\n",
      "Epoch 7: val_accuracy did not improve from 0.97300\n",
      "47/47 [==============================] - 325s 7s/step - loss: 0.0664 - accuracy: 0.9877 - val_loss: 0.0894 - val_accuracy: 0.9722\n",
      "Epoch 8/20\n",
      "47/47 [==============================] - ETA: 0s - loss: 0.0562 - accuracy: 0.9901\n",
      "Epoch 8: val_accuracy improved from 0.97300 to 0.97363, saving model to weights.h5\n",
      "47/47 [==============================] - 328s 7s/step - loss: 0.0562 - accuracy: 0.9901 - val_loss: 0.0868 - val_accuracy: 0.9736\n",
      "Epoch 9/20\n",
      "47/47 [==============================] - ETA: 0s - loss: 0.0480 - accuracy: 0.9915\n",
      "Epoch 9: val_accuracy did not improve from 0.97363\n",
      "47/47 [==============================] - 330s 7s/step - loss: 0.0480 - accuracy: 0.9915 - val_loss: 0.0848 - val_accuracy: 0.9736\n",
      "Epoch 10/20\n",
      "47/47 [==============================] - ETA: 0s - loss: 0.0414 - accuracy: 0.9930\n",
      "Epoch 10: val_accuracy did not improve from 0.97363\n",
      "47/47 [==============================] - 299s 6s/step - loss: 0.0414 - accuracy: 0.9930 - val_loss: 0.0840 - val_accuracy: 0.9731\n",
      "Epoch 11/20\n",
      "47/47 [==============================] - ETA: 0s - loss: 0.0369 - accuracy: 0.9940\n",
      "Epoch 11: val_accuracy did not improve from 0.97363\n",
      "47/47 [==============================] - 298s 6s/step - loss: 0.0369 - accuracy: 0.9940 - val_loss: 0.0845 - val_accuracy: 0.9736\n",
      "Epoch 11: early stopping\n"
     ]
    }
   ],
   "source": [
    "model.compile(loss='binary_crossentropy', optimizer='adam', metrics=['accuracy'])\n",
    "history = model.fit(X_train, y_train, batch_size=512, validation_data=(x_test, y_test), epochs=20, callbacks=callbacks)"
   ]
  },
  {
   "cell_type": "code",
   "execution_count": 79,
   "id": "e091078c",
   "metadata": {},
   "outputs": [
    {
     "name": "stderr",
     "output_type": "stream",
     "text": [
      "WARNING:absl:Found untraced functions such as _update_step_xla, lstm_cell_2_layer_call_fn, lstm_cell_2_layer_call_and_return_conditional_losses while saving (showing 3 of 3). These functions will not be directly callable after loading.\n"
     ]
    },
    {
     "name": "stdout",
     "output_type": "stream",
     "text": [
      "INFO:tensorflow:Assets written to: model\\assets\n"
     ]
    },
    {
     "name": "stderr",
     "output_type": "stream",
     "text": [
      "INFO:tensorflow:Assets written to: model\\assets\n"
     ]
    }
   ],
   "source": [
    "model.load_weights('weights.h5')\n",
    "model.save('model')"
   ]
  },
  {
   "cell_type": "markdown",
   "id": "e431b231",
   "metadata": {},
   "source": [
    "The code below is used to visualize the accuracy and loss curves during training and validation of a machine learning model. The history object is a record of the loss and accuracy values during training, which can be obtained by passing the history argument to the fit method of the model.\n",
    "\n",
    "The acc and val_acc variables store the training and validation accuracy values respectively, while loss and val_loss store the training and validation loss values respectively. The x variable stores the range of epochs for which the values were recorded.\n",
    "\n",
    "The plt.figure function creates a figure with the specified figsize and the subplot function is used to divide the figure into two subplots, one for the accuracy curves and one for the loss curves.\n",
    "\n",
    "The plt.plot function is used to plot the training and validation accuracy/loss values against the range of epochs stored in the x variable. The label argument is used to specify the label for each curve, which is used by the plt.legend function to create a legend for the plot. The plt.title function is used to specify the title for each subplot.\n",
    "\n",
    "Finally, the plt.show function is used to display the plot.\n",
    "\n"
   ]
  },
  {
   "cell_type": "code",
   "execution_count": 80,
   "id": "61158602",
   "metadata": {},
   "outputs": [
    {
     "data": {
      "image/png": "[encoded data removed]",
      "text/plain": [
       "<Figure size 1200x500 with 2 Axes>"
      ]
     },
     "metadata": {},
     "output_type": "display_data"
    }
   ],
   "source": [
    "acc = history.history['accuracy']\n",
    "val_acc = history.history['val_accuracy']\n",
    "loss = history.history['loss']\n",
    "val_loss = history.history['val_loss']\n",
    "x = range(1, len(acc) + 1)\n",
    "\n",
    "plt.figure(figsize=(12, 5))\n",
    "plt.subplot(1, 2, 1)\n",
    "plt.plot(x, acc, 'b', label='Training acc')\n",
    "plt.plot(x, val_acc, 'r', label='Validation acc')\n",
    "plt.title('Training and validation accuracy')\n",
    "plt.legend()\n",
    "plt.subplot(1, 2, 2)\n",
    "plt.plot(x, loss, 'b', label='Training loss')\n",
    "plt.plot(x, val_loss, 'r', label='Validation loss')\n",
    "plt.title('Training and validation loss')\n",
    "plt.legend()\n",
    "plt.show()"
   ]
  },
  {
   "cell_type": "markdown",
   "id": "0354b701",
   "metadata": {},
   "source": [
    "The code below is used to evaluate the performance of the machine learning model. The model.predict method is used to make predictions on the test set and the resulting predictions are rounded to the nearest integer (0 or 1) and stored in the preds list.\n",
    "\n",
    "The confusion_matrix function is then used to calculate the confusion matrix from the true labels y_test and the predicted labels preds. The plot_confusion_matrix function is used to visualize the confusion matrix. The hide_ticks argument is used to hide the axis ticks, the cmap argument is used to specify the color map, and the figsize argument is used to specify the size of the plot.\n",
    "\n",
    "The xticks and yticks functions are used to set the labels for the x-axis and y-axis respectively. The plt.show function is used to display the plot.\n"
   ]
  },
  {
   "cell_type": "code",
   "execution_count": 81,
   "id": "9c8bc821",
   "metadata": {},
   "outputs": [
    {
     "name": "stdout",
     "output_type": "stream",
     "text": [
      "250/250 [==============================] - 22s 89ms/step\n"
     ]
    },
    {
     "data": {
      "text/plain": [
       "<Figure size 640x480 with 0 Axes>"
      ]
     },
     "metadata": {},
     "output_type": "display_data"
    },
    {
     "data": {
      "image/png": "[encoded data removed]",
      "text/plain": [
       "<Figure size 1200x800 with 1 Axes>"
      ]
     },
     "metadata": {},
     "output_type": "display_data"
    }
   ],
   "source": [
    "preds = [round(i[0]) for i in model.predict(x_test)]\n",
    "cm = confusion_matrix(y_test, preds)\n",
    "plt.figure()\n",
    "plot_confusion_matrix(cm, figsize=(12,8), hide_ticks=True, cmap=plt.cm.Blues)\n",
    "plt.xticks(range(2), ['Not clickbait', 'Clickbait'], fontsize=16)\n",
    "plt.yticks(range(2), ['Not clickbait', 'Clickbait'], fontsize=16)\n",
    "plt.show()"
   ]
  },
  {
   "cell_type": "markdown",
   "id": "4c99ea05",
   "metadata": {},
   "source": [
    "Next, the true positive (tp), false positive (fp), false negative (fn), and true negative (tn) values are extracted from the confusion matrix. Precision is calculated as tp / (tp + fp), while recall is calculated as tp / (tp + fn). The precision and recall values are then printed with a formatted string."
   ]
  },
  {
   "cell_type": "code",
   "execution_count": 82,
   "id": "ccf2e270",
   "metadata": {},
   "outputs": [
    {
     "name": "stdout",
     "output_type": "stream",
     "text": [
      "Recall of the model is 0.97\n",
      "Precision of the model is 0.98\n"
     ]
    }
   ],
   "source": [
    "tn, fp, fn, tp = cm.ravel()\n",
    "\n",
    "precision = tp/(tp+fp)\n",
    "recall = tp/(tp+fn)\n",
    "\n",
    "print(\"Recall of the model is {:.2f}\".format(recall))\n",
    "print(\"Precision of the model is {:.2f}\".format(precision))"
   ]
  },
  {
   "cell_type": "code",
   "execution_count": 83,
   "id": "13e43c45",
   "metadata": {},
   "outputs": [
    {
     "name": "stdout",
     "output_type": "stream",
     "text": [
      "1/1 [==============================] - 0s 289ms/step\n",
      "My biggest laugh reveal ever! - Clickbait\n",
      "Learning game development with Unity - Not Clickbait\n",
      "A tour of Japan's Kansai region - Not Clickbait\n",
      "12 things NOT to do in Europe - Clickbait\n"
     ]
    }
   ],
   "source": [
    "test = ['My biggest laugh reveal ever!', 'Learning game development with Unity', 'A tour of Japan\\'s Kansai region', '12 things NOT to do in Europe']\n",
    "token_text = pad_sequences(tokenizer.texts_to_sequences(test), maxlen=maxlen)\n",
    "preds = [round(i[0]) for i in model.predict(token_text)]\n",
    "for (text, pred) in zip(test, preds):\n",
    "    label = 'Clickbait' if pred == 1.0 else 'Not Clickbait'\n",
    "    print(\"{} - {}\".format(text, label))"
   ]
  },
  {
   "cell_type": "markdown",
   "id": "2e17c0ab",
   "metadata": {},
   "source": [
    "# Using Pre-trained Model = BERT"
   ]
  },
  {
   "cell_type": "code",
   "execution_count": 85,
   "id": "20682f08",
   "metadata": {},
   "outputs": [
    {
     "data": {
      "text/plain": [
       "((240, 2), (23, 2))"
      ]
     },
     "execution_count": 85,
     "metadata": {},
     "output_type": "execute_result"
    }
   ],
   "source": [
    "train_df,remaining = train_test_split(data,random_state=42,train_size=0.0075,stratify=data.clickbait.values)\n",
    "valid_df,_ = train_test_split(remaining,random_state=42,train_size=0.00075,stratify=remaining.clickbait.values)\n",
    "train_df.shape,valid_df.shape"
   ]
  },
  {
   "cell_type": "code",
   "execution_count": 53,
   "id": "80dd0cb3",
   "metadata": {},
   "outputs": [
    {
     "name": "stderr",
     "output_type": "stream",
     "text": [
      "fatal: destination path 'models' already exists and is not an empty directory.\n"
     ]
    }
   ],
   "source": [
    "!git clone --depth 1 -b v2.3.0 https://github.com/tensorflow/models.git"
   ]
  },
  {
   "cell_type": "code",
   "execution_count": 86,
   "id": "6d9115ed",
   "metadata": {},
   "outputs": [],
   "source": [
    "import tensorflow as tf\n",
    "import tensorflow_hub as hub\n",
    "import sys\n",
    "sys.path.append('models')\n",
    "from official.nlp.data import classifier_data_lib\n",
    "from official.nlp.bert import tokenization\n",
    "from official.nlp import optimization"
   ]
  },
  {
   "cell_type": "code",
   "execution_count": 87,
   "id": "e19a6a56",
   "metadata": {},
   "outputs": [
    {
     "name": "stdout",
     "output_type": "stream",
     "text": [
      "tf.Tensor(b'Jaimie Alexander Was The Best Part Of The Golden Globes', shape=(), dtype=string)\n",
      "tf.Tensor(1, shape=(), dtype=int64)\n"
     ]
    }
   ],
   "source": [
    "  train_data = tf.data.Dataset.from_tensor_slices((train_df.headline.values, train_df.clickbait.values))\n",
    "  valid_data = tf.data.Dataset.from_tensor_slices((valid_df.headline.values, valid_df.clickbait.values))\n",
    "\n",
    "  for text, label in train_data.take(1):\n",
    "    print(text)\n",
    "    print(label)"
   ]
  },
  {
   "cell_type": "markdown",
   "id": "634d3cd3",
   "metadata": {},
   "source": [
    "The code sets up the BERT layer and tokenizer to be used in the model. The BERT layer is loaded from the TensorFlow Hub repository, which contains pre-trained models ready to use in Keras. The vocab_file and do_lower_case parameters are resolved from the BERT layer and used to instantiate the tokenizer. The tokenizer is used to convert text sequences into numerical representations that can be processed by the BERT model. The max_seq_length variable sets the maximum length of the input sequences, and the train_batch_size sets the batch size for training the model.\n"
   ]
  },
  {
   "cell_type": "code",
   "execution_count": 88,
   "id": "05af9496",
   "metadata": {},
   "outputs": [],
   "source": [
    "label_list = [0, 1] # Label categories\n",
    "max_seq_length = 128 # maximum length of (token) input sequences\n",
    "train_batch_size = 32\n",
    "\n",
    "# Get BERT layer and tokenizer:\n",
    "# More details here: https://tfhub.dev/tensorflow/bert_en_uncased_L-12_H-768_A-12/2\n",
    "bert_layer = hub.KerasLayer(\"https://tfhub.dev/tensorflow/bert_en_uncased_L-12_H-768_A-12/2\",\n",
    "                            trainable=True)\n",
    "vocab_file = bert_layer.resolved_object.vocab_file.asset_path.numpy()\n",
    "do_lower_case = bert_layer.resolved_object.do_lower_case.numpy()\n",
    "tokenizer = tokenization.FullTokenizer(vocab_file, do_lower_case)"
   ]
  },
  {
   "cell_type": "markdown",
   "id": "42ce5745",
   "metadata": {},
   "source": [
    "this function to_feature takes a text and a label as input and returns a feature representation of the text. The feature representation is obtained by converting the input text into a format that can be understood by BERT. This is achieved by using the InputExample class of the classifier_data_lib module, which creates a single example of the input data, which can be passed to the function convert_single_example to convert the text into features.\n",
    "\n",
    "The features returned by this function are the input ids, input masks, segment ids, and label id, which are required by BERT for processing the input data.\n"
   ]
  },
  {
   "cell_type": "code",
   "execution_count": 89,
   "id": "662a5b54",
   "metadata": {},
   "outputs": [],
   "source": [
    "# This provides a function to convert row to input features and label\n",
    "\n",
    "def to_feature(text, label, label_list=label_list, max_seq_length=max_seq_length, tokenizer=tokenizer):\n",
    "  example = classifier_data_lib.InputExample(guid = None,\n",
    "                                            text_a = text.numpy(), \n",
    "                                            text_b = None, \n",
    "                                            label = label.numpy())\n",
    "  feature = classifier_data_lib.convert_single_example(0, example, label_list,\n",
    "                                    max_seq_length, tokenizer)\n",
    "  \n",
    "  return (feature.input_ids, feature.input_mask, feature.segment_ids, feature.label_id)"
   ]
  },
  {
   "cell_type": "code",
   "execution_count": 90,
   "id": "56a71915",
   "metadata": {},
   "outputs": [],
   "source": [
    "def to_feature_map(text, label):\n",
    "  input_ids, input_mask, segment_ids, label_id = tf.py_function(to_feature, inp=[text, label], \n",
    "                                Tout=[tf.int32, tf.int32, tf.int32, tf.int32])\n",
    "\n",
    "  # py_func doesn't set the shape of the returned tensors.\n",
    "  input_ids.set_shape([max_seq_length])\n",
    "  input_mask.set_shape([max_seq_length])\n",
    "  segment_ids.set_shape([max_seq_length])\n",
    "  label_id.set_shape([])\n",
    "\n",
    "  x = {\n",
    "        'input_word_ids': input_ids,\n",
    "        'input_mask': input_mask,\n",
    "        'input_type_ids': segment_ids\n",
    "    }\n",
    "  return (x, label_id)"
   ]
  },
  {
   "cell_type": "code",
   "execution_count": 91,
   "id": "4452dc2e",
   "metadata": {},
   "outputs": [],
   "source": [
    "  # train\n",
    "  train_data = (train_data.map(to_feature_map,\n",
    "                              num_parallel_calls=tf.data.experimental.AUTOTUNE)\n",
    "                          #.cache()\n",
    "                          .shuffle(1000)\n",
    "                          .batch(32, drop_remainder=True)\n",
    "                          .prefetch(tf.data.experimental.AUTOTUNE))\n",
    "\n",
    "  # valid\n",
    "  valid_data = (valid_data.map(to_feature_map,\n",
    "                            num_parallel_calls=tf.data.experimental.AUTOTUNE)\n",
    "                          .batch(32, drop_remainder=True)\n",
    "                          .prefetch(tf.data.experimental.AUTOTUNE)) "
   ]
  },
  {
   "cell_type": "markdown",
   "id": "258cbf0a",
   "metadata": {},
   "source": [
    "Now that the datasets are prepared, they can be used to train and evaluate the BERT based model."
   ]
  },
  {
   "cell_type": "markdown",
   "id": "c516906b",
   "metadata": {},
   "source": [
    "This code defines a function create_model that creates a binary sentiment classification model using the BERT pre-trained transformer.\n",
    "\n",
    "The model takes three inputs: input_word_ids, input_mask, and input_type_ids. These represent the tokenized input sequences, the attention masks for the tokenized input sequences, and the token type ids indicating which tokens belong to the first and second segments of the input.\n",
    "\n",
    "The model first passes the input data through the bert_layer to obtain a pooled representation and a sequence representation of the input. The pooled_output is then passed through a dropout layer with a rate of 0.4, and then a dense layer with a single output and sigmoid activation. The result represents the predicted probability of the input being positive.\n",
    "\n",
    "Finally, the model is defined using the Keras Model class, with the three inputs and the output connected to the appropriate layers.\n"
   ]
  },
  {
   "cell_type": "code",
   "execution_count": 92,
   "id": "3c4df378",
   "metadata": {},
   "outputs": [],
   "source": [
    "# Building the model\n",
    "def create_model():\n",
    "  input_word_ids = tf.keras.layers.Input(shape=(max_seq_length,), dtype=tf.int32,\n",
    "                                      name=\"input_word_ids\")\n",
    "  input_mask = tf.keras.layers.Input(shape=(max_seq_length,), dtype=tf.int32,\n",
    "                                  name=\"input_mask\")\n",
    "  input_type_ids = tf.keras.layers.Input(shape=(max_seq_length,), dtype=tf.int32,\n",
    "                                  name=\"input_type_ids\")\n",
    "\n",
    "  pooled_output, sequence_output = bert_layer([input_word_ids, input_mask, input_type_ids])\n",
    "\n",
    "  drop = tf.keras.layers.Dropout(0.4)(pooled_output)\n",
    "  output = tf.keras.layers.Dense(1, activation=\"sigmoid\", name=\"output\")(drop)\n",
    "\n",
    "  model = tf.keras.Model(\n",
    "    inputs={\n",
    "        'input_word_ids': input_word_ids,\n",
    "        'input_mask': input_mask,\n",
    "        'input_type_ids': input_type_ids\n",
    "    },\n",
    "    outputs=output)\n",
    "  return model"
   ]
  },
  {
   "cell_type": "code",
   "execution_count": 93,
   "id": "c0a0c61d",
   "metadata": {},
   "outputs": [
    {
     "name": "stdout",
     "output_type": "stream",
     "text": [
      "Model: \"model_2\"\n",
      "__________________________________________________________________________________________________\n",
      " Layer (type)                   Output Shape         Param #     Connected to                     \n",
      "==================================================================================================\n",
      " input_word_ids (InputLayer)    [(None, 128)]        0           []                               \n",
      "                                                                                                  \n",
      " input_mask (InputLayer)        [(None, 128)]        0           []                               \n",
      "                                                                                                  \n",
      " input_type_ids (InputLayer)    [(None, 128)]        0           []                               \n",
      "                                                                                                  \n",
      " keras_layer_2 (KerasLayer)     [(None, 768),        109482241   ['input_word_ids[0][0]',         \n",
      "                                 (None, 128, 768)]                'input_mask[0][0]',             \n",
      "                                                                  'input_type_ids[0][0]']         \n",
      "                                                                                                  \n",
      " dropout_5 (Dropout)            (None, 768)          0           ['keras_layer_2[0][0]']          \n",
      "                                                                                                  \n",
      " output (Dense)                 (None, 1)            769         ['dropout_5[0][0]']              \n",
      "                                                                                                  \n",
      "==================================================================================================\n",
      "Total params: 109,483,010\n",
      "Trainable params: 109,483,009\n",
      "Non-trainable params: 1\n",
      "__________________________________________________________________________________________________\n"
     ]
    }
   ],
   "source": [
    "model = create_model()\n",
    "model.compile(optimizer=tf.keras.optimizers.Adam(learning_rate=2e-5),\n",
    "                     loss=tf.keras.losses.BinaryCrossentropy(),\n",
    "                     metrics=[tf.keras.metrics.BinaryAccuracy()])\n",
    "model.summary()"
   ]
  },
  {
   "cell_type": "code",
   "execution_count": 94,
   "id": "f44ff246",
   "metadata": {},
   "outputs": [
    {
     "name": "stdout",
     "output_type": "stream",
     "text": [
      "You must install pydot (`pip install pydot`) and install graphviz (see instructions at https://graphviz.gitlab.io/download/) for plot_model to work.\n"
     ]
    }
   ],
   "source": [
    "tf.keras.utils.plot_model(model=model,show_shapes=True,dpi=76)"
   ]
  },
  {
   "cell_type": "code",
   "execution_count": 95,
   "id": "6869a3e6",
   "metadata": {},
   "outputs": [
    {
     "name": "stdout",
     "output_type": "stream",
     "text": [
      "Epoch 1/4\n",
      "7/7 [==============================] - 409s 56s/step - loss: 1.0897 - accuracy: 0.5491\n",
      "Epoch 2/4\n",
      "7/7 [==============================] - 388s 55s/step - loss: 0.8175 - accuracy: 0.5223\n",
      "Epoch 3/4\n",
      "7/7 [==============================] - 462s 68s/step - loss: 0.7940 - accuracy: 0.5804\n",
      "Epoch 4/4\n",
      "7/7 [==============================] - 386s 54s/step - loss: 0.8508 - accuracy: 0.5045\n"
     ]
    }
   ],
   "source": [
    "# Train model\n",
    "epochs=4\n",
    "model.compile(loss='binary_crossentropy', optimizer='adam', metrics=['accuracy'])\n",
    "history = model.fit(train_data,\n",
    "                    validation_data=valid_data,\n",
    "                    epochs=epochs,\n",
    "                    verbose=1)"
   ]
  },
  {
   "cell_type": "code",
   "execution_count": 97,
   "id": "e46125ac",
   "metadata": {},
   "outputs": [],
   "source": [
    "import matplotlib.pyplot as plt\n",
    "\n",
    "def plot_graphs(history, metric):\n",
    "  plt.plot(history.history[metric])\n",
    "  plt.plot(history.history['val_'+metric], '')\n",
    "  plt.xlabel(\"Epochs\")\n",
    "  plt.ylabel(metric)\n",
    "  plt.legend([metric, 'val_'+metric])\n",
    "  plt.show()"
   ]
  },
  {
   "cell_type": "code",
   "execution_count": 98,
   "id": "e381f5a3",
   "metadata": {},
   "outputs": [
    {
     "data": {
      "image/png": "[encoded data removed]",
      "text/plain": [
       "<Figure size 1200x500 with 2 Axes>"
      ]
     },
     "metadata": {},
     "output_type": "display_data"
    }
   ],
   "source": [
    "acc = history.history['accuracy']\n",
    "loss = history.history['loss']\n",
    "x = range(1, len(acc) + 1)\n",
    "\n",
    "plt.figure(figsize=(12, 5))\n",
    "plt.subplot(1, 2, 1)\n",
    "plt.plot(x, acc, 'b', label='Training acc')\n",
    "plt.title('Training and validation accuracy')\n",
    "plt.legend()\n",
    "plt.subplot(1, 2, 2)\n",
    "plt.plot(x, loss, 'b', label='Training loss')\n",
    "plt.title('Training and validation loss')\n",
    "plt.legend()\n",
    "plt.show()"
   ]
  },
  {
   "cell_type": "code",
   "execution_count": 104,
   "id": "b7cf55b2",
   "metadata": {},
   "outputs": [
    {
     "name": "stdout",
     "output_type": "stream",
     "text": [
      "4/4 [==============================] - 9s 2s/step\n"
     ]
    },
    {
     "data": {
      "text/plain": [
       "['not clickbait', 'not clickbait', 'not clickbait', 'not clickbait']"
      ]
     },
     "execution_count": 104,
     "metadata": {},
     "output_type": "execute_result"
    }
   ],
   "source": [
    "sample_example = ['My biggest laugh reveal ever!', 'Learning game development with Unity', 'A tour of Japan\\'s Kansai region', '12 things NOT to do in Europe']\n",
    "test_data = tf.data.Dataset.from_tensor_slices((sample_example, [0]*len(sample_example)))\n",
    "test_data = (test_data.map(to_feature_map).batch(1))\n",
    "preds = model.predict(test_data)\n",
    "['Toxic' if pred >=0.5 else 'not clickbait' for pred in preds]"
   ]
  },
  {
   "cell_type": "code",
   "execution_count": 103,
   "id": "c7e089ac",
   "metadata": {
    "scrolled": true
   },
   "outputs": [
    {
     "data": {
      "text/plain": [
       "array([[0.4795853 ],\n",
       "       [0.47958547],\n",
       "       [0.47958535],\n",
       "       [0.47958538]], dtype=float32)"
      ]
     },
     "execution_count": 103,
     "metadata": {},
     "output_type": "execute_result"
    }
   ],
   "source": [
    "preds"
   ]
  },
  {
   "cell_type": "markdown",
   "id": "fc0acbfb",
   "metadata": {},
   "source": [
    "**From the results of the two models above, it can be concluded that the model that does not use the pre-trained model has more satisfactory results with an accuracy rate of 98 percent.**"
   ]
  }
 ],
 "metadata": {
  "kernelspec": {
   "display_name": "theia_da",
   "language": "python",
   "name": "theia_da"
  },
  "language_info": {
   "codemirror_mode": {
    "name": "ipython",
    "version": 3
   },
   "file_extension": ".py",
   "mimetype": "text/x-python",
   "name": "python",
   "nbconvert_exporter": "python",
   "pygments_lexer": "ipython3",
   "version": "3.9.13"
  }
 },
 "nbformat": 4,
 "nbformat_minor": 5
}
